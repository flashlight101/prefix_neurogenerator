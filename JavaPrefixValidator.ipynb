{
  "nbformat": 4,
  "nbformat_minor": 0,
  "metadata": {
    "colab": {
      "name": "JavaPrefixValidator.ipynb",
      "provenance": []
    },
    "kernelspec": {
      "name": "python3",
      "display_name": "Python 3"
    },
    "language_info": {
      "name": "python"
    },
    "accelerator": "GPU",
    "widgets": {
      "application/vnd.jupyter.widget-state+json": {
        "9a4da5cc28534fd8b337d37dda9f8d76": {
          "model_module": "@jupyter-widgets/controls",
          "model_name": "HBoxModel",
          "model_module_version": "1.5.0",
          "state": {
            "_view_name": "HBoxView",
            "_dom_classes": [],
            "_model_name": "HBoxModel",
            "_view_module": "@jupyter-widgets/controls",
            "_model_module_version": "1.5.0",
            "_view_count": null,
            "_view_module_version": "1.5.0",
            "box_style": "",
            "layout": "IPY_MODEL_bcbd3f0d192a4ec8b829445c1490a3a9",
            "_model_module": "@jupyter-widgets/controls",
            "children": [
              "IPY_MODEL_deb82d1c26dc4d2ca50cf9f84c137d2b",
              "IPY_MODEL_cee72b4bd32e4305abde9575e44aaf7b",
              "IPY_MODEL_e4d09505d2f24ec4b9e5f2ba0891c4ff"
            ]
          }
        },
        "bcbd3f0d192a4ec8b829445c1490a3a9": {
          "model_module": "@jupyter-widgets/base",
          "model_name": "LayoutModel",
          "model_module_version": "1.2.0",
          "state": {
            "_view_name": "LayoutView",
            "grid_template_rows": null,
            "right": null,
            "justify_content": null,
            "_view_module": "@jupyter-widgets/base",
            "overflow": null,
            "_model_module_version": "1.2.0",
            "_view_count": null,
            "flex_flow": null,
            "width": null,
            "min_width": null,
            "border": null,
            "align_items": null,
            "bottom": null,
            "_model_module": "@jupyter-widgets/base",
            "top": null,
            "grid_column": null,
            "overflow_y": null,
            "overflow_x": null,
            "grid_auto_flow": null,
            "grid_area": null,
            "grid_template_columns": null,
            "flex": null,
            "_model_name": "LayoutModel",
            "justify_items": null,
            "grid_row": null,
            "max_height": null,
            "align_content": null,
            "visibility": null,
            "align_self": null,
            "height": null,
            "min_height": null,
            "padding": null,
            "grid_auto_rows": null,
            "grid_gap": null,
            "max_width": null,
            "order": null,
            "_view_module_version": "1.2.0",
            "grid_template_areas": null,
            "object_position": null,
            "object_fit": null,
            "grid_auto_columns": null,
            "margin": null,
            "display": null,
            "left": null
          }
        },
        "deb82d1c26dc4d2ca50cf9f84c137d2b": {
          "model_module": "@jupyter-widgets/controls",
          "model_name": "HTMLModel",
          "model_module_version": "1.5.0",
          "state": {
            "_view_name": "HTMLView",
            "style": "IPY_MODEL_d68a0cd3fd5c4ada961bb759d15a2dfe",
            "_dom_classes": [],
            "description": "",
            "_model_name": "HTMLModel",
            "placeholder": "​",
            "_view_module": "@jupyter-widgets/controls",
            "_model_module_version": "1.5.0",
            "value": "100%",
            "_view_count": null,
            "_view_module_version": "1.5.0",
            "description_tooltip": null,
            "_model_module": "@jupyter-widgets/controls",
            "layout": "IPY_MODEL_115456ec74224e228a8e4acd2b9b4911"
          }
        },
        "cee72b4bd32e4305abde9575e44aaf7b": {
          "model_module": "@jupyter-widgets/controls",
          "model_name": "FloatProgressModel",
          "model_module_version": "1.5.0",
          "state": {
            "_view_name": "ProgressView",
            "style": "IPY_MODEL_7ce503f752db43869f013c2908db598e",
            "_dom_classes": [],
            "description": "",
            "_model_name": "FloatProgressModel",
            "bar_style": "success",
            "max": 26,
            "_view_module": "@jupyter-widgets/controls",
            "_model_module_version": "1.5.0",
            "value": 26,
            "_view_count": null,
            "_view_module_version": "1.5.0",
            "orientation": "horizontal",
            "min": 0,
            "description_tooltip": null,
            "_model_module": "@jupyter-widgets/controls",
            "layout": "IPY_MODEL_0d2977dbf9df4f74b3a90bdde8ab4eac"
          }
        },
        "e4d09505d2f24ec4b9e5f2ba0891c4ff": {
          "model_module": "@jupyter-widgets/controls",
          "model_name": "HTMLModel",
          "model_module_version": "1.5.0",
          "state": {
            "_view_name": "HTMLView",
            "style": "IPY_MODEL_631cbdc721dc4cd3b02081bca176c2f2",
            "_dom_classes": [],
            "description": "",
            "_model_name": "HTMLModel",
            "placeholder": "​",
            "_view_module": "@jupyter-widgets/controls",
            "_model_module_version": "1.5.0",
            "value": " 26/26 [00:01&lt;00:00, 21.26it/s]",
            "_view_count": null,
            "_view_module_version": "1.5.0",
            "description_tooltip": null,
            "_model_module": "@jupyter-widgets/controls",
            "layout": "IPY_MODEL_683baa6417b542b0a28d0e01ea3c3ba9"
          }
        },
        "d68a0cd3fd5c4ada961bb759d15a2dfe": {
          "model_module": "@jupyter-widgets/controls",
          "model_name": "DescriptionStyleModel",
          "model_module_version": "1.5.0",
          "state": {
            "_view_name": "StyleView",
            "_model_name": "DescriptionStyleModel",
            "description_width": "",
            "_view_module": "@jupyter-widgets/base",
            "_model_module_version": "1.5.0",
            "_view_count": null,
            "_view_module_version": "1.2.0",
            "_model_module": "@jupyter-widgets/controls"
          }
        },
        "115456ec74224e228a8e4acd2b9b4911": {
          "model_module": "@jupyter-widgets/base",
          "model_name": "LayoutModel",
          "model_module_version": "1.2.0",
          "state": {
            "_view_name": "LayoutView",
            "grid_template_rows": null,
            "right": null,
            "justify_content": null,
            "_view_module": "@jupyter-widgets/base",
            "overflow": null,
            "_model_module_version": "1.2.0",
            "_view_count": null,
            "flex_flow": null,
            "width": null,
            "min_width": null,
            "border": null,
            "align_items": null,
            "bottom": null,
            "_model_module": "@jupyter-widgets/base",
            "top": null,
            "grid_column": null,
            "overflow_y": null,
            "overflow_x": null,
            "grid_auto_flow": null,
            "grid_area": null,
            "grid_template_columns": null,
            "flex": null,
            "_model_name": "LayoutModel",
            "justify_items": null,
            "grid_row": null,
            "max_height": null,
            "align_content": null,
            "visibility": null,
            "align_self": null,
            "height": null,
            "min_height": null,
            "padding": null,
            "grid_auto_rows": null,
            "grid_gap": null,
            "max_width": null,
            "order": null,
            "_view_module_version": "1.2.0",
            "grid_template_areas": null,
            "object_position": null,
            "object_fit": null,
            "grid_auto_columns": null,
            "margin": null,
            "display": null,
            "left": null
          }
        },
        "7ce503f752db43869f013c2908db598e": {
          "model_module": "@jupyter-widgets/controls",
          "model_name": "ProgressStyleModel",
          "model_module_version": "1.5.0",
          "state": {
            "_view_name": "StyleView",
            "_model_name": "ProgressStyleModel",
            "description_width": "",
            "_view_module": "@jupyter-widgets/base",
            "_model_module_version": "1.5.0",
            "_view_count": null,
            "_view_module_version": "1.2.0",
            "bar_color": null,
            "_model_module": "@jupyter-widgets/controls"
          }
        },
        "0d2977dbf9df4f74b3a90bdde8ab4eac": {
          "model_module": "@jupyter-widgets/base",
          "model_name": "LayoutModel",
          "model_module_version": "1.2.0",
          "state": {
            "_view_name": "LayoutView",
            "grid_template_rows": null,
            "right": null,
            "justify_content": null,
            "_view_module": "@jupyter-widgets/base",
            "overflow": null,
            "_model_module_version": "1.2.0",
            "_view_count": null,
            "flex_flow": null,
            "width": null,
            "min_width": null,
            "border": null,
            "align_items": null,
            "bottom": null,
            "_model_module": "@jupyter-widgets/base",
            "top": null,
            "grid_column": null,
            "overflow_y": null,
            "overflow_x": null,
            "grid_auto_flow": null,
            "grid_area": null,
            "grid_template_columns": null,
            "flex": null,
            "_model_name": "LayoutModel",
            "justify_items": null,
            "grid_row": null,
            "max_height": null,
            "align_content": null,
            "visibility": null,
            "align_self": null,
            "height": null,
            "min_height": null,
            "padding": null,
            "grid_auto_rows": null,
            "grid_gap": null,
            "max_width": null,
            "order": null,
            "_view_module_version": "1.2.0",
            "grid_template_areas": null,
            "object_position": null,
            "object_fit": null,
            "grid_auto_columns": null,
            "margin": null,
            "display": null,
            "left": null
          }
        },
        "631cbdc721dc4cd3b02081bca176c2f2": {
          "model_module": "@jupyter-widgets/controls",
          "model_name": "DescriptionStyleModel",
          "model_module_version": "1.5.0",
          "state": {
            "_view_name": "StyleView",
            "_model_name": "DescriptionStyleModel",
            "description_width": "",
            "_view_module": "@jupyter-widgets/base",
            "_model_module_version": "1.5.0",
            "_view_count": null,
            "_view_module_version": "1.2.0",
            "_model_module": "@jupyter-widgets/controls"
          }
        },
        "683baa6417b542b0a28d0e01ea3c3ba9": {
          "model_module": "@jupyter-widgets/base",
          "model_name": "LayoutModel",
          "model_module_version": "1.2.0",
          "state": {
            "_view_name": "LayoutView",
            "grid_template_rows": null,
            "right": null,
            "justify_content": null,
            "_view_module": "@jupyter-widgets/base",
            "overflow": null,
            "_model_module_version": "1.2.0",
            "_view_count": null,
            "flex_flow": null,
            "width": null,
            "min_width": null,
            "border": null,
            "align_items": null,
            "bottom": null,
            "_model_module": "@jupyter-widgets/base",
            "top": null,
            "grid_column": null,
            "overflow_y": null,
            "overflow_x": null,
            "grid_auto_flow": null,
            "grid_area": null,
            "grid_template_columns": null,
            "flex": null,
            "_model_name": "LayoutModel",
            "justify_items": null,
            "grid_row": null,
            "max_height": null,
            "align_content": null,
            "visibility": null,
            "align_self": null,
            "height": null,
            "min_height": null,
            "padding": null,
            "grid_auto_rows": null,
            "grid_gap": null,
            "max_width": null,
            "order": null,
            "_view_module_version": "1.2.0",
            "grid_template_areas": null,
            "object_position": null,
            "object_fit": null,
            "grid_auto_columns": null,
            "margin": null,
            "display": null,
            "left": null
          }
        },
        "067924f24a0d47b199ba8efb21597b72": {
          "model_module": "@jupyter-widgets/controls",
          "model_name": "HBoxModel",
          "model_module_version": "1.5.0",
          "state": {
            "_view_name": "HBoxView",
            "_dom_classes": [],
            "_model_name": "HBoxModel",
            "_view_module": "@jupyter-widgets/controls",
            "_model_module_version": "1.5.0",
            "_view_count": null,
            "_view_module_version": "1.5.0",
            "box_style": "",
            "layout": "IPY_MODEL_c949ff01bc204df7982699133d5d8306",
            "_model_module": "@jupyter-widgets/controls",
            "children": [
              "IPY_MODEL_91794bcf9e8a49db9894102cefd1181c",
              "IPY_MODEL_2f99b2816fa147e194245c5f0e4af041",
              "IPY_MODEL_3ce06f0ca1c546b9a78f25499a3a9fea"
            ]
          }
        },
        "c949ff01bc204df7982699133d5d8306": {
          "model_module": "@jupyter-widgets/base",
          "model_name": "LayoutModel",
          "model_module_version": "1.2.0",
          "state": {
            "_view_name": "LayoutView",
            "grid_template_rows": null,
            "right": null,
            "justify_content": null,
            "_view_module": "@jupyter-widgets/base",
            "overflow": null,
            "_model_module_version": "1.2.0",
            "_view_count": null,
            "flex_flow": null,
            "width": null,
            "min_width": null,
            "border": null,
            "align_items": null,
            "bottom": null,
            "_model_module": "@jupyter-widgets/base",
            "top": null,
            "grid_column": null,
            "overflow_y": null,
            "overflow_x": null,
            "grid_auto_flow": null,
            "grid_area": null,
            "grid_template_columns": null,
            "flex": null,
            "_model_name": "LayoutModel",
            "justify_items": null,
            "grid_row": null,
            "max_height": null,
            "align_content": null,
            "visibility": null,
            "align_self": null,
            "height": null,
            "min_height": null,
            "padding": null,
            "grid_auto_rows": null,
            "grid_gap": null,
            "max_width": null,
            "order": null,
            "_view_module_version": "1.2.0",
            "grid_template_areas": null,
            "object_position": null,
            "object_fit": null,
            "grid_auto_columns": null,
            "margin": null,
            "display": null,
            "left": null
          }
        },
        "91794bcf9e8a49db9894102cefd1181c": {
          "model_module": "@jupyter-widgets/controls",
          "model_name": "HTMLModel",
          "model_module_version": "1.5.0",
          "state": {
            "_view_name": "HTMLView",
            "style": "IPY_MODEL_f861b5ec72fb443db441d59b3dceabf6",
            "_dom_classes": [],
            "description": "",
            "_model_name": "HTMLModel",
            "placeholder": "​",
            "_view_module": "@jupyter-widgets/controls",
            "_model_module_version": "1.5.0",
            "value": "100%",
            "_view_count": null,
            "_view_module_version": "1.5.0",
            "description_tooltip": null,
            "_model_module": "@jupyter-widgets/controls",
            "layout": "IPY_MODEL_8bf8a09a12b14ac6b02d470da0087170"
          }
        },
        "2f99b2816fa147e194245c5f0e4af041": {
          "model_module": "@jupyter-widgets/controls",
          "model_name": "FloatProgressModel",
          "model_module_version": "1.5.0",
          "state": {
            "_view_name": "ProgressView",
            "style": "IPY_MODEL_af73d51b32624d8aa9a6a2a64ad37fb6",
            "_dom_classes": [],
            "description": "",
            "_model_name": "FloatProgressModel",
            "bar_style": "success",
            "max": 26,
            "_view_module": "@jupyter-widgets/controls",
            "_model_module_version": "1.5.0",
            "value": 26,
            "_view_count": null,
            "_view_module_version": "1.5.0",
            "orientation": "horizontal",
            "min": 0,
            "description_tooltip": null,
            "_model_module": "@jupyter-widgets/controls",
            "layout": "IPY_MODEL_b7cbbc9036d947aabf99643c9107b4c4"
          }
        },
        "3ce06f0ca1c546b9a78f25499a3a9fea": {
          "model_module": "@jupyter-widgets/controls",
          "model_name": "HTMLModel",
          "model_module_version": "1.5.0",
          "state": {
            "_view_name": "HTMLView",
            "style": "IPY_MODEL_43f3e94916d54ada9722bddba107c42b",
            "_dom_classes": [],
            "description": "",
            "_model_name": "HTMLModel",
            "placeholder": "​",
            "_view_module": "@jupyter-widgets/controls",
            "_model_module_version": "1.5.0",
            "value": " 26/26 [00:00&lt;00:00, 128.24it/s]",
            "_view_count": null,
            "_view_module_version": "1.5.0",
            "description_tooltip": null,
            "_model_module": "@jupyter-widgets/controls",
            "layout": "IPY_MODEL_75d683474bfb433f8b4de18551d45b8f"
          }
        },
        "f861b5ec72fb443db441d59b3dceabf6": {
          "model_module": "@jupyter-widgets/controls",
          "model_name": "DescriptionStyleModel",
          "model_module_version": "1.5.0",
          "state": {
            "_view_name": "StyleView",
            "_model_name": "DescriptionStyleModel",
            "description_width": "",
            "_view_module": "@jupyter-widgets/base",
            "_model_module_version": "1.5.0",
            "_view_count": null,
            "_view_module_version": "1.2.0",
            "_model_module": "@jupyter-widgets/controls"
          }
        },
        "8bf8a09a12b14ac6b02d470da0087170": {
          "model_module": "@jupyter-widgets/base",
          "model_name": "LayoutModel",
          "model_module_version": "1.2.0",
          "state": {
            "_view_name": "LayoutView",
            "grid_template_rows": null,
            "right": null,
            "justify_content": null,
            "_view_module": "@jupyter-widgets/base",
            "overflow": null,
            "_model_module_version": "1.2.0",
            "_view_count": null,
            "flex_flow": null,
            "width": null,
            "min_width": null,
            "border": null,
            "align_items": null,
            "bottom": null,
            "_model_module": "@jupyter-widgets/base",
            "top": null,
            "grid_column": null,
            "overflow_y": null,
            "overflow_x": null,
            "grid_auto_flow": null,
            "grid_area": null,
            "grid_template_columns": null,
            "flex": null,
            "_model_name": "LayoutModel",
            "justify_items": null,
            "grid_row": null,
            "max_height": null,
            "align_content": null,
            "visibility": null,
            "align_self": null,
            "height": null,
            "min_height": null,
            "padding": null,
            "grid_auto_rows": null,
            "grid_gap": null,
            "max_width": null,
            "order": null,
            "_view_module_version": "1.2.0",
            "grid_template_areas": null,
            "object_position": null,
            "object_fit": null,
            "grid_auto_columns": null,
            "margin": null,
            "display": null,
            "left": null
          }
        },
        "af73d51b32624d8aa9a6a2a64ad37fb6": {
          "model_module": "@jupyter-widgets/controls",
          "model_name": "ProgressStyleModel",
          "model_module_version": "1.5.0",
          "state": {
            "_view_name": "StyleView",
            "_model_name": "ProgressStyleModel",
            "description_width": "",
            "_view_module": "@jupyter-widgets/base",
            "_model_module_version": "1.5.0",
            "_view_count": null,
            "_view_module_version": "1.2.0",
            "bar_color": null,
            "_model_module": "@jupyter-widgets/controls"
          }
        },
        "b7cbbc9036d947aabf99643c9107b4c4": {
          "model_module": "@jupyter-widgets/base",
          "model_name": "LayoutModel",
          "model_module_version": "1.2.0",
          "state": {
            "_view_name": "LayoutView",
            "grid_template_rows": null,
            "right": null,
            "justify_content": null,
            "_view_module": "@jupyter-widgets/base",
            "overflow": null,
            "_model_module_version": "1.2.0",
            "_view_count": null,
            "flex_flow": null,
            "width": null,
            "min_width": null,
            "border": null,
            "align_items": null,
            "bottom": null,
            "_model_module": "@jupyter-widgets/base",
            "top": null,
            "grid_column": null,
            "overflow_y": null,
            "overflow_x": null,
            "grid_auto_flow": null,
            "grid_area": null,
            "grid_template_columns": null,
            "flex": null,
            "_model_name": "LayoutModel",
            "justify_items": null,
            "grid_row": null,
            "max_height": null,
            "align_content": null,
            "visibility": null,
            "align_self": null,
            "height": null,
            "min_height": null,
            "padding": null,
            "grid_auto_rows": null,
            "grid_gap": null,
            "max_width": null,
            "order": null,
            "_view_module_version": "1.2.0",
            "grid_template_areas": null,
            "object_position": null,
            "object_fit": null,
            "grid_auto_columns": null,
            "margin": null,
            "display": null,
            "left": null
          }
        },
        "43f3e94916d54ada9722bddba107c42b": {
          "model_module": "@jupyter-widgets/controls",
          "model_name": "DescriptionStyleModel",
          "model_module_version": "1.5.0",
          "state": {
            "_view_name": "StyleView",
            "_model_name": "DescriptionStyleModel",
            "description_width": "",
            "_view_module": "@jupyter-widgets/base",
            "_model_module_version": "1.5.0",
            "_view_count": null,
            "_view_module_version": "1.2.0",
            "_model_module": "@jupyter-widgets/controls"
          }
        },
        "75d683474bfb433f8b4de18551d45b8f": {
          "model_module": "@jupyter-widgets/base",
          "model_name": "LayoutModel",
          "model_module_version": "1.2.0",
          "state": {
            "_view_name": "LayoutView",
            "grid_template_rows": null,
            "right": null,
            "justify_content": null,
            "_view_module": "@jupyter-widgets/base",
            "overflow": null,
            "_model_module_version": "1.2.0",
            "_view_count": null,
            "flex_flow": null,
            "width": null,
            "min_width": null,
            "border": null,
            "align_items": null,
            "bottom": null,
            "_model_module": "@jupyter-widgets/base",
            "top": null,
            "grid_column": null,
            "overflow_y": null,
            "overflow_x": null,
            "grid_auto_flow": null,
            "grid_area": null,
            "grid_template_columns": null,
            "flex": null,
            "_model_name": "LayoutModel",
            "justify_items": null,
            "grid_row": null,
            "max_height": null,
            "align_content": null,
            "visibility": null,
            "align_self": null,
            "height": null,
            "min_height": null,
            "padding": null,
            "grid_auto_rows": null,
            "grid_gap": null,
            "max_width": null,
            "order": null,
            "_view_module_version": "1.2.0",
            "grid_template_areas": null,
            "object_position": null,
            "object_fit": null,
            "grid_auto_columns": null,
            "margin": null,
            "display": null,
            "left": null
          }
        },
        "530ca9525b09465f88e2b8fe6a14d458": {
          "model_module": "@jupyter-widgets/controls",
          "model_name": "HBoxModel",
          "model_module_version": "1.5.0",
          "state": {
            "_view_name": "HBoxView",
            "_dom_classes": [],
            "_model_name": "HBoxModel",
            "_view_module": "@jupyter-widgets/controls",
            "_model_module_version": "1.5.0",
            "_view_count": null,
            "_view_module_version": "1.5.0",
            "box_style": "",
            "layout": "IPY_MODEL_aa62cec385434456aaa1729d0c1853d4",
            "_model_module": "@jupyter-widgets/controls",
            "children": [
              "IPY_MODEL_ed25479ea0c649d8889821e92bcdab17",
              "IPY_MODEL_39aab73cdfc74e57a1f163a0ea639646",
              "IPY_MODEL_b7d12d925217435ab0f98beced7d101f"
            ]
          }
        },
        "aa62cec385434456aaa1729d0c1853d4": {
          "model_module": "@jupyter-widgets/base",
          "model_name": "LayoutModel",
          "model_module_version": "1.2.0",
          "state": {
            "_view_name": "LayoutView",
            "grid_template_rows": null,
            "right": null,
            "justify_content": null,
            "_view_module": "@jupyter-widgets/base",
            "overflow": null,
            "_model_module_version": "1.2.0",
            "_view_count": null,
            "flex_flow": null,
            "width": null,
            "min_width": null,
            "border": null,
            "align_items": null,
            "bottom": null,
            "_model_module": "@jupyter-widgets/base",
            "top": null,
            "grid_column": null,
            "overflow_y": null,
            "overflow_x": null,
            "grid_auto_flow": null,
            "grid_area": null,
            "grid_template_columns": null,
            "flex": null,
            "_model_name": "LayoutModel",
            "justify_items": null,
            "grid_row": null,
            "max_height": null,
            "align_content": null,
            "visibility": null,
            "align_self": null,
            "height": null,
            "min_height": null,
            "padding": null,
            "grid_auto_rows": null,
            "grid_gap": null,
            "max_width": null,
            "order": null,
            "_view_module_version": "1.2.0",
            "grid_template_areas": null,
            "object_position": null,
            "object_fit": null,
            "grid_auto_columns": null,
            "margin": null,
            "display": null,
            "left": null
          }
        },
        "ed25479ea0c649d8889821e92bcdab17": {
          "model_module": "@jupyter-widgets/controls",
          "model_name": "HTMLModel",
          "model_module_version": "1.5.0",
          "state": {
            "_view_name": "HTMLView",
            "style": "IPY_MODEL_c5ff9f2af1ea4c2d98127ad0123859f1",
            "_dom_classes": [],
            "description": "",
            "_model_name": "HTMLModel",
            "placeholder": "​",
            "_view_module": "@jupyter-widgets/controls",
            "_model_module_version": "1.5.0",
            "value": "100%",
            "_view_count": null,
            "_view_module_version": "1.5.0",
            "description_tooltip": null,
            "_model_module": "@jupyter-widgets/controls",
            "layout": "IPY_MODEL_8650970ea241402c977e079d99acf269"
          }
        },
        "39aab73cdfc74e57a1f163a0ea639646": {
          "model_module": "@jupyter-widgets/controls",
          "model_name": "FloatProgressModel",
          "model_module_version": "1.5.0",
          "state": {
            "_view_name": "ProgressView",
            "style": "IPY_MODEL_39c2295db05b4e0cb374b7ae67de417f",
            "_dom_classes": [],
            "description": "",
            "_model_name": "FloatProgressModel",
            "bar_style": "success",
            "max": 15,
            "_view_module": "@jupyter-widgets/controls",
            "_model_module_version": "1.5.0",
            "value": 15,
            "_view_count": null,
            "_view_module_version": "1.5.0",
            "orientation": "horizontal",
            "min": 0,
            "description_tooltip": null,
            "_model_module": "@jupyter-widgets/controls",
            "layout": "IPY_MODEL_fdb46bd0859849d0997dde8b1465039e"
          }
        },
        "b7d12d925217435ab0f98beced7d101f": {
          "model_module": "@jupyter-widgets/controls",
          "model_name": "HTMLModel",
          "model_module_version": "1.5.0",
          "state": {
            "_view_name": "HTMLView",
            "style": "IPY_MODEL_3874fc8cf2e74b599d5f56321fea0e71",
            "_dom_classes": [],
            "description": "",
            "_model_name": "HTMLModel",
            "placeholder": "​",
            "_view_module": "@jupyter-widgets/controls",
            "_model_module_version": "1.5.0",
            "value": " 15/15 [03:32&lt;00:00, 14.18s/it]",
            "_view_count": null,
            "_view_module_version": "1.5.0",
            "description_tooltip": null,
            "_model_module": "@jupyter-widgets/controls",
            "layout": "IPY_MODEL_48bc9402bea145658681a0c3c63182de"
          }
        },
        "c5ff9f2af1ea4c2d98127ad0123859f1": {
          "model_module": "@jupyter-widgets/controls",
          "model_name": "DescriptionStyleModel",
          "model_module_version": "1.5.0",
          "state": {
            "_view_name": "StyleView",
            "_model_name": "DescriptionStyleModel",
            "description_width": "",
            "_view_module": "@jupyter-widgets/base",
            "_model_module_version": "1.5.0",
            "_view_count": null,
            "_view_module_version": "1.2.0",
            "_model_module": "@jupyter-widgets/controls"
          }
        },
        "8650970ea241402c977e079d99acf269": {
          "model_module": "@jupyter-widgets/base",
          "model_name": "LayoutModel",
          "model_module_version": "1.2.0",
          "state": {
            "_view_name": "LayoutView",
            "grid_template_rows": null,
            "right": null,
            "justify_content": null,
            "_view_module": "@jupyter-widgets/base",
            "overflow": null,
            "_model_module_version": "1.2.0",
            "_view_count": null,
            "flex_flow": null,
            "width": null,
            "min_width": null,
            "border": null,
            "align_items": null,
            "bottom": null,
            "_model_module": "@jupyter-widgets/base",
            "top": null,
            "grid_column": null,
            "overflow_y": null,
            "overflow_x": null,
            "grid_auto_flow": null,
            "grid_area": null,
            "grid_template_columns": null,
            "flex": null,
            "_model_name": "LayoutModel",
            "justify_items": null,
            "grid_row": null,
            "max_height": null,
            "align_content": null,
            "visibility": null,
            "align_self": null,
            "height": null,
            "min_height": null,
            "padding": null,
            "grid_auto_rows": null,
            "grid_gap": null,
            "max_width": null,
            "order": null,
            "_view_module_version": "1.2.0",
            "grid_template_areas": null,
            "object_position": null,
            "object_fit": null,
            "grid_auto_columns": null,
            "margin": null,
            "display": null,
            "left": null
          }
        },
        "39c2295db05b4e0cb374b7ae67de417f": {
          "model_module": "@jupyter-widgets/controls",
          "model_name": "ProgressStyleModel",
          "model_module_version": "1.5.0",
          "state": {
            "_view_name": "StyleView",
            "_model_name": "ProgressStyleModel",
            "description_width": "",
            "_view_module": "@jupyter-widgets/base",
            "_model_module_version": "1.5.0",
            "_view_count": null,
            "_view_module_version": "1.2.0",
            "bar_color": null,
            "_model_module": "@jupyter-widgets/controls"
          }
        },
        "fdb46bd0859849d0997dde8b1465039e": {
          "model_module": "@jupyter-widgets/base",
          "model_name": "LayoutModel",
          "model_module_version": "1.2.0",
          "state": {
            "_view_name": "LayoutView",
            "grid_template_rows": null,
            "right": null,
            "justify_content": null,
            "_view_module": "@jupyter-widgets/base",
            "overflow": null,
            "_model_module_version": "1.2.0",
            "_view_count": null,
            "flex_flow": null,
            "width": null,
            "min_width": null,
            "border": null,
            "align_items": null,
            "bottom": null,
            "_model_module": "@jupyter-widgets/base",
            "top": null,
            "grid_column": null,
            "overflow_y": null,
            "overflow_x": null,
            "grid_auto_flow": null,
            "grid_area": null,
            "grid_template_columns": null,
            "flex": null,
            "_model_name": "LayoutModel",
            "justify_items": null,
            "grid_row": null,
            "max_height": null,
            "align_content": null,
            "visibility": null,
            "align_self": null,
            "height": null,
            "min_height": null,
            "padding": null,
            "grid_auto_rows": null,
            "grid_gap": null,
            "max_width": null,
            "order": null,
            "_view_module_version": "1.2.0",
            "grid_template_areas": null,
            "object_position": null,
            "object_fit": null,
            "grid_auto_columns": null,
            "margin": null,
            "display": null,
            "left": null
          }
        },
        "3874fc8cf2e74b599d5f56321fea0e71": {
          "model_module": "@jupyter-widgets/controls",
          "model_name": "DescriptionStyleModel",
          "model_module_version": "1.5.0",
          "state": {
            "_view_name": "StyleView",
            "_model_name": "DescriptionStyleModel",
            "description_width": "",
            "_view_module": "@jupyter-widgets/base",
            "_model_module_version": "1.5.0",
            "_view_count": null,
            "_view_module_version": "1.2.0",
            "_model_module": "@jupyter-widgets/controls"
          }
        },
        "48bc9402bea145658681a0c3c63182de": {
          "model_module": "@jupyter-widgets/base",
          "model_name": "LayoutModel",
          "model_module_version": "1.2.0",
          "state": {
            "_view_name": "LayoutView",
            "grid_template_rows": null,
            "right": null,
            "justify_content": null,
            "_view_module": "@jupyter-widgets/base",
            "overflow": null,
            "_model_module_version": "1.2.0",
            "_view_count": null,
            "flex_flow": null,
            "width": null,
            "min_width": null,
            "border": null,
            "align_items": null,
            "bottom": null,
            "_model_module": "@jupyter-widgets/base",
            "top": null,
            "grid_column": null,
            "overflow_y": null,
            "overflow_x": null,
            "grid_auto_flow": null,
            "grid_area": null,
            "grid_template_columns": null,
            "flex": null,
            "_model_name": "LayoutModel",
            "justify_items": null,
            "grid_row": null,
            "max_height": null,
            "align_content": null,
            "visibility": null,
            "align_self": null,
            "height": null,
            "min_height": null,
            "padding": null,
            "grid_auto_rows": null,
            "grid_gap": null,
            "max_width": null,
            "order": null,
            "_view_module_version": "1.2.0",
            "grid_template_areas": null,
            "object_position": null,
            "object_fit": null,
            "grid_auto_columns": null,
            "margin": null,
            "display": null,
            "left": null
          }
        }
      }
    }
  },
  "cells": [
    {
      "cell_type": "code",
      "execution_count": 1,
      "metadata": {
        "colab": {
          "base_uri": "https://localhost:8080/"
        },
        "id": "yfx-UqPCBITa",
        "outputId": "27020dbc-45e6-4cf1-9bd4-121082a28c04"
      },
      "outputs": [
        {
          "output_type": "stream",
          "name": "stdout",
          "text": [
            "Requirement already satisfied: marisa-trie in /usr/local/lib/python3.7/dist-packages (0.7.7)\n",
            "Requirement already satisfied: setuptools in /usr/local/lib/python3.7/dist-packages (from marisa-trie) (57.4.0)\n"
          ]
        }
      ],
      "source": [
        "!pip install marisa-trie"
      ]
    },
    {
      "cell_type": "code",
      "source": [
        "import numpy as np\n",
        "import pandas as pd\n",
        "\n",
        "import torch\n",
        "import torch.nn as nn\n",
        "import torch.optim as optim\n",
        "import torch.nn.functional as F\n",
        "from torch.utils.data import TensorDataset, DataLoader\n",
        "import matplotlib.pyplot as plt\n",
        "\n",
        "from torchtext.legacy import data\n",
        "\n",
        "from torchtext import vocab\n",
        "\n",
        "from marisa_trie import Trie\n",
        "\n",
        "import re\n",
        "\n",
        "from nltk.tokenize import word_tokenize\n",
        "\n",
        "from tqdm.notebook import tqdm\n",
        "\n",
        "import string\n",
        "\n",
        "from typing import *"
      ],
      "metadata": {
        "id": "g5U9f2IOBSad"
      },
      "execution_count": 2,
      "outputs": []
    },
    {
      "cell_type": "markdown",
      "source": [
        "# Load data"
      ],
      "metadata": {
        "id": "TjdPJUxRBZbm"
      }
    },
    {
      "cell_type": "code",
      "source": [
        "FOLDER = \"/content/drive/MyDrive/CompTech2022/Classes/\""
      ],
      "metadata": {
        "id": "lGFsYnvdBWE1"
      },
      "execution_count": 3,
      "outputs": []
    },
    {
      "cell_type": "code",
      "source": [
        "dfByAlph = dict()\n",
        "\n",
        "for char in list(string.ascii_lowercase):\n",
        "    dfByAlph[char] = pd.read_csv(FOLDER + f\"{char.upper()}.csv\", header=None).iloc[:5000]"
      ],
      "metadata": {
        "id": "hzND3D2LBdSW"
      },
      "execution_count": 4,
      "outputs": []
    },
    {
      "cell_type": "code",
      "source": [
        "dfByAlph['y'].head()"
      ],
      "metadata": {
        "colab": {
          "base_uri": "https://localhost:8080/",
          "height": 206
        },
        "id": "9qeYtV6nBmSU",
        "outputId": "42969090-ed16-461a-ccc7-d27bb3611633"
      },
      "execution_count": 5,
      "outputs": [
        {
          "output_type": "execute_result",
          "data": {
            "text/html": [
              "\n",
              "  <div id=\"df-64d97c02-a032-4118-a8cb-841fa362cb63\">\n",
              "    <div class=\"colab-df-container\">\n",
              "      <div>\n",
              "<style scoped>\n",
              "    .dataframe tbody tr th:only-of-type {\n",
              "        vertical-align: middle;\n",
              "    }\n",
              "\n",
              "    .dataframe tbody tr th {\n",
              "        vertical-align: top;\n",
              "    }\n",
              "\n",
              "    .dataframe thead th {\n",
              "        text-align: right;\n",
              "    }\n",
              "</style>\n",
              "<table border=\"1\" class=\"dataframe\">\n",
              "  <thead>\n",
              "    <tr style=\"text-align: right;\">\n",
              "      <th></th>\n",
              "      <th>0</th>\n",
              "      <th>1</th>\n",
              "    </tr>\n",
              "  </thead>\n",
              "  <tbody>\n",
              "    <tr>\n",
              "      <th>0</th>\n",
              "      <td>Yylex</td>\n",
              "      <td>28</td>\n",
              "    </tr>\n",
              "    <tr>\n",
              "      <th>1</th>\n",
              "      <td>YambaApplication</td>\n",
              "      <td>27</td>\n",
              "    </tr>\n",
              "    <tr>\n",
              "      <th>2</th>\n",
              "      <td>Year</td>\n",
              "      <td>26</td>\n",
              "    </tr>\n",
              "    <tr>\n",
              "      <th>3</th>\n",
              "      <td>Yytoken</td>\n",
              "      <td>21</td>\n",
              "    </tr>\n",
              "    <tr>\n",
              "      <th>4</th>\n",
              "      <td>YahooParserTest</td>\n",
              "      <td>16</td>\n",
              "    </tr>\n",
              "  </tbody>\n",
              "</table>\n",
              "</div>\n",
              "      <button class=\"colab-df-convert\" onclick=\"convertToInteractive('df-64d97c02-a032-4118-a8cb-841fa362cb63')\"\n",
              "              title=\"Convert this dataframe to an interactive table.\"\n",
              "              style=\"display:none;\">\n",
              "        \n",
              "  <svg xmlns=\"http://www.w3.org/2000/svg\" height=\"24px\"viewBox=\"0 0 24 24\"\n",
              "       width=\"24px\">\n",
              "    <path d=\"M0 0h24v24H0V0z\" fill=\"none\"/>\n",
              "    <path d=\"M18.56 5.44l.94 2.06.94-2.06 2.06-.94-2.06-.94-.94-2.06-.94 2.06-2.06.94zm-11 1L8.5 8.5l.94-2.06 2.06-.94-2.06-.94L8.5 2.5l-.94 2.06-2.06.94zm10 10l.94 2.06.94-2.06 2.06-.94-2.06-.94-.94-2.06-.94 2.06-2.06.94z\"/><path d=\"M17.41 7.96l-1.37-1.37c-.4-.4-.92-.59-1.43-.59-.52 0-1.04.2-1.43.59L10.3 9.45l-7.72 7.72c-.78.78-.78 2.05 0 2.83L4 21.41c.39.39.9.59 1.41.59.51 0 1.02-.2 1.41-.59l7.78-7.78 2.81-2.81c.8-.78.8-2.07 0-2.86zM5.41 20L4 18.59l7.72-7.72 1.47 1.35L5.41 20z\"/>\n",
              "  </svg>\n",
              "      </button>\n",
              "      \n",
              "  <style>\n",
              "    .colab-df-container {\n",
              "      display:flex;\n",
              "      flex-wrap:wrap;\n",
              "      gap: 12px;\n",
              "    }\n",
              "\n",
              "    .colab-df-convert {\n",
              "      background-color: #E8F0FE;\n",
              "      border: none;\n",
              "      border-radius: 50%;\n",
              "      cursor: pointer;\n",
              "      display: none;\n",
              "      fill: #1967D2;\n",
              "      height: 32px;\n",
              "      padding: 0 0 0 0;\n",
              "      width: 32px;\n",
              "    }\n",
              "\n",
              "    .colab-df-convert:hover {\n",
              "      background-color: #E2EBFA;\n",
              "      box-shadow: 0px 1px 2px rgba(60, 64, 67, 0.3), 0px 1px 3px 1px rgba(60, 64, 67, 0.15);\n",
              "      fill: #174EA6;\n",
              "    }\n",
              "\n",
              "    [theme=dark] .colab-df-convert {\n",
              "      background-color: #3B4455;\n",
              "      fill: #D2E3FC;\n",
              "    }\n",
              "\n",
              "    [theme=dark] .colab-df-convert:hover {\n",
              "      background-color: #434B5C;\n",
              "      box-shadow: 0px 1px 3px 1px rgba(0, 0, 0, 0.15);\n",
              "      filter: drop-shadow(0px 1px 2px rgba(0, 0, 0, 0.3));\n",
              "      fill: #FFFFFF;\n",
              "    }\n",
              "  </style>\n",
              "\n",
              "      <script>\n",
              "        const buttonEl =\n",
              "          document.querySelector('#df-64d97c02-a032-4118-a8cb-841fa362cb63 button.colab-df-convert');\n",
              "        buttonEl.style.display =\n",
              "          google.colab.kernel.accessAllowed ? 'block' : 'none';\n",
              "\n",
              "        async function convertToInteractive(key) {\n",
              "          const element = document.querySelector('#df-64d97c02-a032-4118-a8cb-841fa362cb63');\n",
              "          const dataTable =\n",
              "            await google.colab.kernel.invokeFunction('convertToInteractive',\n",
              "                                                     [key], {});\n",
              "          if (!dataTable) return;\n",
              "\n",
              "          const docLinkHtml = 'Like what you see? Visit the ' +\n",
              "            '<a target=\"_blank\" href=https://colab.research.google.com/notebooks/data_table.ipynb>data table notebook</a>'\n",
              "            + ' to learn more about interactive tables.';\n",
              "          element.innerHTML = '';\n",
              "          dataTable['output_type'] = 'display_data';\n",
              "          await google.colab.output.renderOutput(dataTable, element);\n",
              "          const docLink = document.createElement('div');\n",
              "          docLink.innerHTML = docLinkHtml;\n",
              "          element.appendChild(docLink);\n",
              "        }\n",
              "      </script>\n",
              "    </div>\n",
              "  </div>\n",
              "  "
            ],
            "text/plain": [
              "                  0   1\n",
              "0             Yylex  28\n",
              "1  YambaApplication  27\n",
              "2              Year  26\n",
              "3           Yytoken  21\n",
              "4   YahooParserTest  16"
            ]
          },
          "metadata": {},
          "execution_count": 5
        }
      ]
    },
    {
      "cell_type": "markdown",
      "source": [
        "# Split by subwords"
      ],
      "metadata": {
        "id": "M9a3gudECAI4"
      }
    },
    {
      "cell_type": "code",
      "source": [
        "def split_case(x, lower=False):\n",
        "    res = re.findall('[A-Z][^A-Z]*', x)\n",
        "    if lower:\n",
        "        res = [sw.lower() for sw in res]\n",
        "    return res"
      ],
      "metadata": {
        "id": "CyBY7XUwBrtn"
      },
      "execution_count": 6,
      "outputs": []
    },
    {
      "cell_type": "code",
      "source": [
        "#def mergeAndUp(x: List) -> str:"
      ],
      "metadata": {
        "id": "zol6jyB6RbGM"
      },
      "execution_count": 7,
      "outputs": []
    },
    {
      "cell_type": "code",
      "source": [
        "dataByAlph = dict()\n",
        "# noSplitDataByAlph = dict()\n",
        "for char in tqdm(list(string.ascii_lowercase)):\n",
        "    dataByAlph[char] = dfByAlph[char][0].tolist()\n",
        "    dataByAlph[char] = [split_case(w, True) for w in dataByAlph[char]]\n",
        "    dataByAlph[char] = [subwList for subwList in dataByAlph[char] if len(subwList) <= 3][:700]\n",
        "    print(len(dataByAlph[char]), sep=' ')\n",
        "    # noSplitDataByAlph = [''.subwList for subwList in dataByAlph[char]]"
      ],
      "metadata": {
        "colab": {
          "base_uri": "https://localhost:8080/",
          "height": 527,
          "referenced_widgets": [
            "9a4da5cc28534fd8b337d37dda9f8d76",
            "bcbd3f0d192a4ec8b829445c1490a3a9",
            "deb82d1c26dc4d2ca50cf9f84c137d2b",
            "cee72b4bd32e4305abde9575e44aaf7b",
            "e4d09505d2f24ec4b9e5f2ba0891c4ff",
            "d68a0cd3fd5c4ada961bb759d15a2dfe",
            "115456ec74224e228a8e4acd2b9b4911",
            "7ce503f752db43869f013c2908db598e",
            "0d2977dbf9df4f74b3a90bdde8ab4eac",
            "631cbdc721dc4cd3b02081bca176c2f2",
            "683baa6417b542b0a28d0e01ea3c3ba9"
          ]
        },
        "id": "GgltQZMEB5FT",
        "outputId": "58209fc2-d338-440d-bf66-5a4c582c07a5"
      },
      "execution_count": 7,
      "outputs": [
        {
          "output_type": "display_data",
          "data": {
            "application/vnd.jupyter.widget-view+json": {
              "model_id": "9a4da5cc28534fd8b337d37dda9f8d76",
              "version_minor": 0,
              "version_major": 2
            },
            "text/plain": [
              "  0%|          | 0/26 [00:00<?, ?it/s]"
            ]
          },
          "metadata": {}
        },
        {
          "output_type": "stream",
          "name": "stdout",
          "text": [
            "700\n",
            "700\n",
            "700\n",
            "700\n",
            "700\n",
            "700\n",
            "700\n",
            "700\n",
            "700\n",
            "700\n",
            "700\n",
            "700\n",
            "700\n",
            "700\n",
            "700\n",
            "700\n",
            "700\n",
            "700\n",
            "700\n",
            "700\n",
            "700\n",
            "700\n",
            "700\n",
            "700\n",
            "700\n",
            "700\n"
          ]
        }
      ]
    },
    {
      "cell_type": "code",
      "source": [
        "dataByAlph['a'][:10]"
      ],
      "metadata": {
        "colab": {
          "base_uri": "https://localhost:8080/"
        },
        "id": "fFPZcrwyCgw3",
        "outputId": "03bc7aaf-cb74-48ea-b4de-842da06c3458"
      },
      "execution_count": 8,
      "outputs": [
        {
          "output_type": "execute_result",
          "data": {
            "text/plain": [
              "[['activator'],\n",
              " ['all', 'tests'],\n",
              " ['application'],\n",
              " ['app'],\n",
              " ['app', 'test'],\n",
              " ['address'],\n",
              " ['attribute'],\n",
              " ['action'],\n",
              " ['account'],\n",
              " ['add', 'page', 'test']]"
            ]
          },
          "metadata": {},
          "execution_count": 8
        }
      ]
    },
    {
      "cell_type": "code",
      "source": [
        "AllSubwords = set()\n",
        "\n",
        "for char in list(string.ascii_lowercase):\n",
        "    for i in range(len(dataByAlph[char])):\n",
        "        for w in dataByAlph[char][i]:\n",
        "            AllSubwords.add(w)\n",
        "AllSubwords = list(AllSubwords)"
      ],
      "metadata": {
        "id": "e6k-R797Ci98"
      },
      "execution_count": 9,
      "outputs": []
    },
    {
      "cell_type": "code",
      "source": [
        "print(len(AllSubwords))"
      ],
      "metadata": {
        "colab": {
          "base_uri": "https://localhost:8080/"
        },
        "id": "4OaC68hMEmWM",
        "outputId": "2d3e78e6-19ee-443a-c6ae-e9c1e72510da"
      },
      "execution_count": 10,
      "outputs": [
        {
          "output_type": "stream",
          "name": "stdout",
          "text": [
            "4549\n"
          ]
        }
      ]
    },
    {
      "cell_type": "code",
      "source": [
        "'app' in AllSubwords"
      ],
      "metadata": {
        "colab": {
          "base_uri": "https://localhost:8080/"
        },
        "id": "DyLVJjs7DoFf",
        "outputId": "f4f76548-80af-4a63-9bed-3a4c7afea28c"
      },
      "execution_count": 11,
      "outputs": [
        {
          "output_type": "execute_result",
          "data": {
            "text/plain": [
              "True"
            ]
          },
          "metadata": {},
          "execution_count": 11
        }
      ]
    },
    {
      "cell_type": "markdown",
      "source": [
        "# Create multimap"
      ],
      "metadata": {
        "id": "F5fCwDJ-D51E"
      }
    },
    {
      "cell_type": "code",
      "source": [
        "multiMap = dict()\n",
        "for sw in AllSubwords:\n",
        "    multiMap[sw] = []\n",
        "\n",
        "for ch in list(string.ascii_lowercase):\n",
        "    for w in dataByAlph[ch]:\n",
        "        for i in range(len(w)):\n",
        "            if len(w) == 1:\n",
        "                if '<EOS>' not in multiMap[w[i]]:\n",
        "                    multiMap[w[i]].append('<EOS>')\n",
        "            if i + 1 < len(w): \n",
        "                if w[i+1] not in multiMap[w[i]]:\n",
        "                    multiMap[w[i]].append(w[i+1])\n",
        "\n",
        "for k in AllSubwords:\n",
        "    if len(multiMap[k]) == 0:\n",
        "        multiMap[k].append('<EOS>')"
      ],
      "metadata": {
        "id": "LZtOZuNODxqq"
      },
      "execution_count": 12,
      "outputs": []
    },
    {
      "cell_type": "code",
      "source": [
        "# for k in AllSubwords:\n",
        "#     if len(multiMap[k]) == 0:\n",
        "#         print(k)"
      ],
      "metadata": {
        "id": "PkBM5h_kfRqk"
      },
      "execution_count": 13,
      "outputs": []
    },
    {
      "cell_type": "code",
      "source": [
        "# import pickle\n",
        "\n",
        "# with open(FOLDER + 'multiMap.pickle', 'wb') as f:\n",
        "#     pickle.dump(multiMap, f)"
      ],
      "metadata": {
        "id": "mCx5U8n4WYnM"
      },
      "execution_count": 136,
      "outputs": []
    },
    {
      "cell_type": "code",
      "source": [
        "# import pickle \n",
        "\n",
        "# with open(FOLDER + 'multiMap.pickle', 'rb') as f:\n",
        "#     multiMap = pickle.load(f)"
      ],
      "metadata": {
        "id": "GVrMaXd3WhsR"
      },
      "execution_count": null,
      "outputs": []
    },
    {
      "cell_type": "code",
      "source": [
        "multiMap['app']"
      ],
      "metadata": {
        "colab": {
          "base_uri": "https://localhost:8080/"
        },
        "id": "FVXPJg8WEgOU",
        "outputId": "11b9b8b9-7833-4086-8de2-2658a493a6a2"
      },
      "execution_count": 14,
      "outputs": [
        {
          "output_type": "execute_result",
          "data": {
            "text/plain": [
              "['<EOS>',\n",
              " 'test',\n",
              " 'module',\n",
              " 'config',\n",
              " 'controller',\n",
              " 'info',\n",
              " 'constants',\n",
              " 'widget',\n",
              " 'context',\n",
              " 'service',\n",
              " 'sample',\n",
              " 'view',\n",
              " 'user',\n",
              " 'utils',\n",
              " 'window',\n",
              " 'message',\n",
              " 'initializer',\n",
              " 'descriptor',\n",
              " 'configuration',\n",
              " 'main',\n",
              " 'deployer']"
            ]
          },
          "metadata": {},
          "execution_count": 14
        }
      ]
    },
    {
      "cell_type": "markdown",
      "source": [
        "# Create Trie"
      ],
      "metadata": {
        "id": "q0KmFUKJEvf7"
      }
    },
    {
      "cell_type": "code",
      "source": [
        "TRIE = Trie(AllSubwords)"
      ],
      "metadata": {
        "id": "D6ff6UInEqPS"
      },
      "execution_count": 15,
      "outputs": []
    },
    {
      "cell_type": "code",
      "source": [
        "TRIE.keys('a')[:10]"
      ],
      "metadata": {
        "colab": {
          "base_uri": "https://localhost:8080/"
        },
        "id": "mWj-5KctE8oa",
        "outputId": "1277be10-8541-4bdc-be7c-ada721a4ef53"
      },
      "execution_count": 16,
      "outputs": [
        {
          "output_type": "execute_result",
          "data": {
            "text/plain": [
              "['a',\n",
              " 'accept',\n",
              " 'acceptable',\n",
              " 'accepter',\n",
              " 'acceptor',\n",
              " 'access',\n",
              " 'accessor',\n",
              " 'accessory',\n",
              " 'accessible',\n",
              " 'accelerometer']"
            ]
          },
          "metadata": {},
          "execution_count": 16
        }
      ]
    },
    {
      "cell_type": "code",
      "source": [
        "# import pickle\n",
        "\n",
        "# with open(FOLDER + 'TRIE.pickle', 'wb') as f:\n",
        "#     pickle.dump(TRIE, f)"
      ],
      "metadata": {
        "id": "12af2FMkWu47"
      },
      "execution_count": 137,
      "outputs": []
    },
    {
      "cell_type": "code",
      "source": [
        "# import pickle \n",
        "\n",
        "# with open(FOLDER + 'TRIE.pickle', 'rb') as f:\n",
        "#     TRIE = pickle.load(f)"
      ],
      "metadata": {
        "id": "EEx6BQ5GWzwa"
      },
      "execution_count": 138,
      "outputs": []
    },
    {
      "cell_type": "markdown",
      "source": [
        "# Generate negative variants"
      ],
      "metadata": {
        "id": "7vh3fFWqFplV"
      }
    },
    {
      "cell_type": "code",
      "source": [
        "import random\n",
        "bad_choice = []\n",
        "i = 0\n",
        "while i <= 20000:\n",
        "    a = random.choice(AllSubwords)\n",
        "    firstChar = a[0]\n",
        "    b = random.choice(multiMap[a])\n",
        "    if b != '<EOS>':\n",
        "        c = random.choice(multiMap[b])\n",
        "        if c != '<EOS>':\n",
        "            seq = [a, b, c]\n",
        "        else: seq = [a, b]\n",
        "    else:\n",
        "        seq = [a]\n",
        "    if seq not in dataByAlph[firstChar] and seq not in bad_choice:\n",
        "        bad_choice.append(seq)\n",
        "        i += 1"
      ],
      "metadata": {
        "id": "q_9s_CsMKiIr"
      },
      "execution_count": 17,
      "outputs": []
    },
    {
      "cell_type": "code",
      "source": [
        "len(bad_choice)"
      ],
      "metadata": {
        "colab": {
          "base_uri": "https://localhost:8080/"
        },
        "id": "ASEwObVRCnUd",
        "outputId": "800c56ab-b0f0-4cf6-f328-4fc261c6137e"
      },
      "execution_count": 18,
      "outputs": [
        {
          "output_type": "execute_result",
          "data": {
            "text/plain": [
              "20001"
            ]
          },
          "metadata": {},
          "execution_count": 18
        }
      ]
    },
    {
      "cell_type": "code",
      "source": [
        "bad_choice[:2]"
      ],
      "metadata": {
        "colab": {
          "base_uri": "https://localhost:8080/"
        },
        "id": "Wd7hdbT6haq5",
        "outputId": "335b3c0d-28bf-4a7d-a41c-2faa2d510d9d"
      },
      "execution_count": 19,
      "outputs": [
        {
          "output_type": "execute_result",
          "data": {
            "text/plain": [
              "[['info', 'factory', 'spi'], ['tracks', 'handler', 'factory']]"
            ]
          },
          "metadata": {},
          "execution_count": 19
        }
      ]
    },
    {
      "cell_type": "code",
      "source": [
        "# import pickle\n",
        "\n",
        "# with open(FOLDER + 'bad_choice.pickle', 'wb') as f:\n",
        "#     pickle.dump(bad_choice, f)"
      ],
      "metadata": {
        "id": "PUczm3mNf7DN"
      },
      "execution_count": 20,
      "outputs": []
    },
    {
      "cell_type": "markdown",
      "source": [
        "# Generate dataset"
      ],
      "metadata": {
        "id": "gnDkZaQmijMq"
      }
    },
    {
      "cell_type": "code",
      "source": [
        "good_set = []\n",
        "\n",
        "for ch in tqdm(list(string.ascii_lowercase)):\n",
        "    for w in dataByAlph[ch]:\n",
        "        w_tmp = w.copy()\n",
        "        while len(w_tmp) < 3:\n",
        "            w_tmp.append('<EOS>')\n",
        "        good_set.append((w_tmp, 1))\n",
        "\n",
        "bad_set = []\n",
        "for w in bad_choice:\n",
        "    w_tmp = w.copy()\n",
        "    while len(w_tmp) < 3:\n",
        "        w_tmp.append('<EOS>')\n",
        "    bad_set.append((w_tmp, 0))"
      ],
      "metadata": {
        "colab": {
          "base_uri": "https://localhost:8080/",
          "height": 49,
          "referenced_widgets": [
            "067924f24a0d47b199ba8efb21597b72",
            "c949ff01bc204df7982699133d5d8306",
            "91794bcf9e8a49db9894102cefd1181c",
            "2f99b2816fa147e194245c5f0e4af041",
            "3ce06f0ca1c546b9a78f25499a3a9fea",
            "f861b5ec72fb443db441d59b3dceabf6",
            "8bf8a09a12b14ac6b02d470da0087170",
            "af73d51b32624d8aa9a6a2a64ad37fb6",
            "b7cbbc9036d947aabf99643c9107b4c4",
            "43f3e94916d54ada9722bddba107c42b",
            "75d683474bfb433f8b4de18551d45b8f"
          ]
        },
        "id": "hv2guN0Sg-k-",
        "outputId": "6a2d4716-9f06-47c6-b1bd-77a471f5c805"
      },
      "execution_count": 21,
      "outputs": [
        {
          "output_type": "display_data",
          "data": {
            "application/vnd.jupyter.widget-view+json": {
              "model_id": "067924f24a0d47b199ba8efb21597b72",
              "version_minor": 0,
              "version_major": 2
            },
            "text/plain": [
              "  0%|          | 0/26 [00:00<?, ?it/s]"
            ]
          },
          "metadata": {}
        }
      ]
    },
    {
      "cell_type": "code",
      "source": [
        "bad_set[:4]"
      ],
      "metadata": {
        "colab": {
          "base_uri": "https://localhost:8080/"
        },
        "id": "DgTAHt2Lj1i1",
        "outputId": "07e5f494-ecfb-47d4-9bd6-0f06f139440d"
      },
      "execution_count": 22,
      "outputs": [
        {
          "output_type": "execute_result",
          "data": {
            "text/plain": [
              "[(['info', 'factory', 'spi'], 0),\n",
              " (['tracks', 'handler', 'factory'], 0),\n",
              " (['junction', 'provider', 'test'], 0),\n",
              " (['noodle', 'bar', 'sherlock'], 0)]"
            ]
          },
          "metadata": {},
          "execution_count": 22
        }
      ]
    },
    {
      "cell_type": "code",
      "source": [
        "all_set = good_set + bad_set\n",
        "\n",
        "from sklearn.model_selection import train_test_split\n",
        "train_set, test_set = train_test_split(all_set, train_size=0.8, random_state=42, shuffle=True)"
      ],
      "metadata": {
        "id": "sJYCaC1kkGlD"
      },
      "execution_count": 23,
      "outputs": []
    },
    {
      "cell_type": "code",
      "source": [
        "len(all_set)"
      ],
      "metadata": {
        "colab": {
          "base_uri": "https://localhost:8080/"
        },
        "id": "QFH4AulpKAag",
        "outputId": "3ba4a521-a98f-480c-c55c-07f2948c7d96"
      },
      "execution_count": 24,
      "outputs": [
        {
          "output_type": "execute_result",
          "data": {
            "text/plain": [
              "38201"
            ]
          },
          "metadata": {},
          "execution_count": 24
        }
      ]
    },
    {
      "cell_type": "code",
      "source": [
        "train_set[:7]"
      ],
      "metadata": {
        "colab": {
          "base_uri": "https://localhost:8080/"
        },
        "id": "ZUGUCgqtk_9J",
        "outputId": "3bf260d0-2eff-403d-d612-f712a1085cc8"
      },
      "execution_count": 25,
      "outputs": [
        {
          "output_type": "execute_result",
          "data": {
            "text/plain": [
              "[(['opt', 'transformer', 'utils'], 0),\n",
              " (['keep', 'alive', 'info'], 1),\n",
              " (['not', 'null', '<EOS>'], 1),\n",
              " (['inventory', 'converter', 'employee'], 0),\n",
              " (['quiz', 'activity', '<EOS>'], 1),\n",
              " (['tag', 'test', '<EOS>'], 1),\n",
              " (['operation', 'callback', '<EOS>'], 1)]"
            ]
          },
          "metadata": {},
          "execution_count": 25
        }
      ]
    },
    {
      "cell_type": "code",
      "source": [
        "len(train_set)"
      ],
      "metadata": {
        "colab": {
          "base_uri": "https://localhost:8080/"
        },
        "id": "Q9W_lLFlCeYV",
        "outputId": "822af896-37e2-4e79-8e50-4d0cd784722b"
      },
      "execution_count": 26,
      "outputs": [
        {
          "output_type": "execute_result",
          "data": {
            "text/plain": [
              "30560"
            ]
          },
          "metadata": {},
          "execution_count": 26
        }
      ]
    },
    {
      "cell_type": "markdown",
      "source": [
        "# To tensors"
      ],
      "metadata": {
        "id": "xvMerqKmrpzH"
      }
    },
    {
      "cell_type": "code",
      "source": [
        "index2word = ['<EOS>'] + AllSubwords\n",
        "word2index = {token: idx for idx, token in enumerate(index2word)}"
      ],
      "metadata": {
        "id": "r3aS5PcVpO2O"
      },
      "execution_count": 27,
      "outputs": []
    },
    {
      "cell_type": "code",
      "source": [
        "def encode(word: List):\n",
        "    return [word2index[sw] for sw in word]"
      ],
      "metadata": {
        "id": "2sRudeJLpq_R"
      },
      "execution_count": 28,
      "outputs": []
    },
    {
      "cell_type": "code",
      "source": [
        "X_train = [pair[0] for pair in train_set]\n",
        "y_train = [pair[1] for pair in train_set]\n",
        "\n",
        "X_test = [pair[0] for pair in test_set]\n",
        "y_test = [pair[1] for pair in test_set]"
      ],
      "metadata": {
        "id": "AUJLTGXnluHs"
      },
      "execution_count": 29,
      "outputs": []
    },
    {
      "cell_type": "code",
      "source": [
        "X_train[0]"
      ],
      "metadata": {
        "colab": {
          "base_uri": "https://localhost:8080/"
        },
        "id": "DcmIsxVUqK6m",
        "outputId": "1f417e6d-0d12-4f9f-c9c5-41ce04f327bd"
      },
      "execution_count": 30,
      "outputs": [
        {
          "output_type": "execute_result",
          "data": {
            "text/plain": [
              "['opt', 'transformer', 'utils']"
            ]
          },
          "metadata": {},
          "execution_count": 30
        }
      ]
    },
    {
      "cell_type": "code",
      "source": [
        "encode(X_train[0])"
      ],
      "metadata": {
        "colab": {
          "base_uri": "https://localhost:8080/"
        },
        "id": "Euj8vIfDqI59",
        "outputId": "5eccb3ef-f611-40a8-e1d5-f0ad219845db"
      },
      "execution_count": 31,
      "outputs": [
        {
          "output_type": "execute_result",
          "data": {
            "text/plain": [
              "[530, 4003, 2526]"
            ]
          },
          "metadata": {},
          "execution_count": 31
        }
      ]
    },
    {
      "cell_type": "code",
      "source": [
        "X_train_enc = [encode(w) for w in X_train]\n",
        "X_test_enc = [encode(w) for w in X_test]"
      ],
      "metadata": {
        "id": "IP3I3HYKpc_U"
      },
      "execution_count": 32,
      "outputs": []
    },
    {
      "cell_type": "code",
      "source": [
        "X_train_np = np.array(X_train_enc, dtype='int')\n",
        "y_train_np = np.array(y_train, dtype='int')\n",
        "\n",
        "X_test_np = np.array(X_test_enc, dtype='int')\n",
        "y_test_np = np.array(y_test, dtype='int')"
      ],
      "metadata": {
        "id": "NwEwpu0eq4ww"
      },
      "execution_count": 33,
      "outputs": []
    },
    {
      "cell_type": "code",
      "source": [
        "X_train_np.shape"
      ],
      "metadata": {
        "colab": {
          "base_uri": "https://localhost:8080/"
        },
        "id": "NkbSIU4DrK6o",
        "outputId": "9100464b-a111-4fa1-c831-4a924a4e3d32"
      },
      "execution_count": 34,
      "outputs": [
        {
          "output_type": "execute_result",
          "data": {
            "text/plain": [
              "(30560, 3)"
            ]
          },
          "metadata": {},
          "execution_count": 34
        }
      ]
    },
    {
      "cell_type": "code",
      "source": [
        "batch_size = 16"
      ],
      "metadata": {
        "id": "UuqBrR9QoNdW"
      },
      "execution_count": 35,
      "outputs": []
    },
    {
      "cell_type": "code",
      "source": [
        "train_ds = TensorDataset(torch.from_numpy(X_train_np), torch.from_numpy(y_train_np).double())\n",
        "test_ds = TensorDataset(torch.from_numpy(X_test_np), torch.from_numpy(y_test_np).double())\n",
        "\n",
        "train_dl = DataLoader(train_ds, shuffle=False, batch_size=batch_size, drop_last=True)\n",
        "test_dl = DataLoader(test_ds, shuffle=False, batch_size=batch_size, drop_last=True)"
      ],
      "metadata": {
        "id": "cQ4HP-ornoBJ"
      },
      "execution_count": 36,
      "outputs": []
    },
    {
      "cell_type": "markdown",
      "source": [
        "# Tensor to Glove"
      ],
      "metadata": {
        "id": "W2IfF8mzyYdo"
      }
    },
    {
      "cell_type": "code",
      "source": [
        "import pickle\n",
        "\n",
        "with open(FOLDER + 'glove.pickle', 'rb') as f:\n",
        "    glove = pickle.load(f)"
      ],
      "metadata": {
        "id": "CwbrqeTFsh-6"
      },
      "execution_count": 37,
      "outputs": []
    },
    {
      "cell_type": "code",
      "source": [
        "# glove = vocab.GloVe(name='6B', dim=50)"
      ],
      "metadata": {
        "id": "XtNnCBtY1S0b"
      },
      "execution_count": 38,
      "outputs": []
    },
    {
      "cell_type": "code",
      "source": [
        "# import pickle \n",
        "\n",
        "# with open(FOLDER + 'glove.pickle', 'wb') as f:\n",
        "#     pickle.dump(glove, f)"
      ],
      "metadata": {
        "id": "9Gs68nLC1qBQ"
      },
      "execution_count": 39,
      "outputs": []
    },
    {
      "cell_type": "code",
      "source": [
        "glove.get_vecs_by_tokens(['apple', 'tree']).numpy().shape"
      ],
      "metadata": {
        "colab": {
          "base_uri": "https://localhost:8080/"
        },
        "id": "XDjG3YhqtQDp",
        "outputId": "38654824-aad0-487d-b4b0-c4369d051f68"
      },
      "execution_count": 40,
      "outputs": [
        {
          "output_type": "execute_result",
          "data": {
            "text/plain": [
              "(2, 50)"
            ]
          },
          "metadata": {},
          "execution_count": 40
        }
      ]
    },
    {
      "cell_type": "code",
      "source": [
        "def tensorToGlove(tnz, glove):\n",
        "    npt = tnz.numpy()\n",
        "    # res = None\n",
        "    res = torch.zeros(batch_size, 3, 50)\n",
        "    # print(npt.shape[0])\n",
        "    for i in range(npt.shape[0]):\n",
        "        word = npt[i].tolist()\n",
        "        # print(word)\n",
        "        word = [index2word[id] for id in word]\n",
        "        word_check = []\n",
        "        for sw in word:\n",
        "            if sw == '<EOS>':\n",
        "                word_check.append(sw)\n",
        "            else:\n",
        "                if torch.is_nonzero(glove.get_vecs_by_tokens(sw).sum()):\n",
        "                    word_check.append(sw)\n",
        "                else:\n",
        "                    word_check.append('unknown')\n",
        "        word_glove = glove.get_vecs_by_tokens(word_check)\n",
        "        res[i] = word_glove\n",
        "    return res"
      ],
      "metadata": {
        "id": "rkqX-5UAonb6"
      },
      "execution_count": 75,
      "outputs": []
    },
    {
      "cell_type": "code",
      "source": [
        "glove.get_vecs_by_tokens('unknown')"
      ],
      "metadata": {
        "colab": {
          "base_uri": "https://localhost:8080/"
        },
        "id": "UeZ0VZ1_Nt8h",
        "outputId": "4f28654e-b15f-4ea8-99ef-4d454812411e"
      },
      "execution_count": 70,
      "outputs": [
        {
          "output_type": "execute_result",
          "data": {
            "text/plain": [
              "tensor([ 0.8985,  0.3009,  0.3838, -0.0775,  1.2406,  0.6338, -0.4976,  0.5938,\n",
              "        -0.1640, -0.0793,  0.6614, -0.1784,  0.0644,  0.1550,  0.6378, -0.1253,\n",
              "        -0.0458,  0.0842, -0.8427,  0.2547, -0.5364,  0.0583,  0.5323,  0.6080,\n",
              "         0.4153, -1.2192, -1.1077, -0.2925,  0.5028,  0.6570,  2.2331, -1.2356,\n",
              "         0.1846, -1.1709,  0.5621,  0.3741,  0.2454, -0.2103, -0.3509,  0.2034,\n",
              "         0.0988, -0.1560,  0.0888,  0.1791,  0.2173, -0.5099, -0.4869, -0.0779,\n",
              "         0.5525, -0.6279])"
            ]
          },
          "metadata": {},
          "execution_count": 70
        }
      ]
    },
    {
      "cell_type": "markdown",
      "source": [
        "# Model"
      ],
      "metadata": {
        "id": "QdmUQ32jyo_w"
      }
    },
    {
      "cell_type": "code",
      "source": [
        "class RnnModel(nn.Module):\n",
        "\n",
        "    def __init__(self, hidden_dim, embedding_dim=50, vocab_size=1, batch_first=True, dropout=0.2):\n",
        "        super(RnnModel, self).__init__()\n",
        "\n",
        "        # self.embedding = nn.Embedding(vocab_size, embedding_dim, padding_idx=padding_idx)\n",
        "        self.rnn = nn.GRU(embedding_dim, hidden_dim, batch_first=batch_first)\n",
        "        # self.dropout = nn.Dropout(dropout)\n",
        "        self.fc = nn.Linear(hidden_dim, vocab_size, bias=False)\n",
        "        self.hidden_dim = hidden_dim\n",
        "        self.double()\n",
        "\n",
        "\n",
        "    def forward(self, x, hidden):\n",
        "        output, hidden = self.rnn(x, hidden)\n",
        "        batch_size_, seq_size, feat_size = output.shape\n",
        "        # из 3-х мерного в 2-мерный\n",
        "        # output = output.contiguous().view(batch_size_ * seq_size, feat_size)\n",
        "\n",
        "        # output = self.dropout(output)\n",
        "        output = self.fc(output)\n",
        "\n",
        "        # new_feat_size = output.shape[-1]\n",
        "        # обратно в 3-х мерный\n",
        "        # output = output.view(batch_size_, seq_size, new_feat_size)\n",
        "        output = output[:, -1]\n",
        "        output = torch.squeeze(output)\n",
        "        output = F.sigmoid(output)\n",
        "        return output, hidden\n",
        "\n",
        "\n",
        "    def init_hidden(self, batch_size):\n",
        "        return torch.zeros(1, batch_size, self.hidden_dim, dtype=torch.double)"
      ],
      "metadata": {
        "id": "9w5i2pPdyojV"
      },
      "execution_count": 119,
      "outputs": []
    },
    {
      "cell_type": "code",
      "source": [
        "def set_seed(seed):\n",
        "    torch.manual_seed(seed)\n",
        "    torch.backends.cudnn.deterministic = True\n",
        "    torch.backends.cudnn.benchmark = False\n",
        "    np.random.seed(seed)"
      ],
      "metadata": {
        "id": "NxBDdKyl4IPS"
      },
      "execution_count": 120,
      "outputs": []
    },
    {
      "cell_type": "markdown",
      "source": [
        "# Training"
      ],
      "metadata": {
        "id": "wk9BCdDGz4sv"
      }
    },
    {
      "cell_type": "code",
      "source": [
        "device = torch.device(\"cuda:0\" if torch.cuda.is_available() else \"cpu\")"
      ],
      "metadata": {
        "id": "TYGa1qhSz2QK"
      },
      "execution_count": 121,
      "outputs": []
    },
    {
      "cell_type": "code",
      "source": [
        "torch.cuda.get_device_name(0)"
      ],
      "metadata": {
        "colab": {
          "base_uri": "https://localhost:8080/",
          "height": 36
        },
        "id": "gobPJCM74BJ9",
        "outputId": "9acf12ca-a8e2-4ee7-cc31-b938afe53cb7"
      },
      "execution_count": 122,
      "outputs": [
        {
          "output_type": "execute_result",
          "data": {
            "application/vnd.google.colaboratory.intrinsic+json": {
              "type": "string"
            },
            "text/plain": [
              "'Tesla K80'"
            ]
          },
          "metadata": {},
          "execution_count": 122
        }
      ]
    },
    {
      "cell_type": "code",
      "source": [
        "set_seed(36)"
      ],
      "metadata": {
        "id": "g82ZbLf04EkN"
      },
      "execution_count": 123,
      "outputs": []
    },
    {
      "cell_type": "code",
      "source": [
        "model = RnnModel(64)\n",
        "model = model.to(device)"
      ],
      "metadata": {
        "id": "pDNyl1_Q4L5F"
      },
      "execution_count": 124,
      "outputs": []
    },
    {
      "cell_type": "code",
      "source": [
        "model"
      ],
      "metadata": {
        "colab": {
          "base_uri": "https://localhost:8080/"
        },
        "id": "ZkDFJwbqFyMw",
        "outputId": "558c40a8-5504-417b-bb5a-46a7699c2cba"
      },
      "execution_count": 125,
      "outputs": [
        {
          "output_type": "execute_result",
          "data": {
            "text/plain": [
              "RnnModel(\n",
              "  (rnn): GRU(50, 64, batch_first=True)\n",
              "  (fc): Linear(in_features=64, out_features=1, bias=False)\n",
              ")"
            ]
          },
          "metadata": {},
          "execution_count": 125
        }
      ]
    },
    {
      "cell_type": "code",
      "source": [
        "model.init_hidden(batch_size).shape"
      ],
      "metadata": {
        "colab": {
          "base_uri": "https://localhost:8080/"
        },
        "id": "XrOVy--g4VkT",
        "outputId": "dc93f4fb-5a86-4da5-ee73-82b91a21a45a"
      },
      "execution_count": 126,
      "outputs": [
        {
          "output_type": "execute_result",
          "data": {
            "text/plain": [
              "torch.Size([1, 16, 64])"
            ]
          },
          "metadata": {},
          "execution_count": 126
        }
      ]
    },
    {
      "cell_type": "code",
      "source": [
        "# criterion = nn.BCEWithLogitsLoss()\n",
        "criterion = nn.BCELoss()\n",
        "optimizer = torch.optim.Adam(model.parameters(), lr=0.001)"
      ],
      "metadata": {
        "id": "OZZjYFVW6tN_"
      },
      "execution_count": 127,
      "outputs": []
    },
    {
      "cell_type": "code",
      "source": [
        "epochs = 15\n",
        "\n",
        "dataloaders = {'train': train_dl,\n",
        "               'train_val': train_dl,\n",
        "               'val': test_dl}\n",
        "\n",
        "all_tr_loss = np.zeros(epochs)\n",
        "all_val_loss = np.zeros(epochs)\n",
        "\n",
        "best_loss_val = 99999999.\n",
        "\n",
        "for e in tqdm(range(epochs)):\n",
        "    epoch_loss = {'train_val': 0.0, 'val': 0.0}\n",
        "\n",
        "    for mode in ['train','train_val', 'val']:\n",
        "        if mode == 'train':\n",
        "            model.train()\n",
        "        else:\n",
        "            model.eval()\n",
        "        \n",
        "        h0 =  model.init_hidden(batch_size)\n",
        "\n",
        "        h0 = h0.to(device)\n",
        "        # c0 = c0.to(device)\n",
        "\n",
        "        # running_loss = 0.0\n",
        "        b_losses = []\n",
        "        for batch_idx, batch in enumerate(dataloaders[mode]):\n",
        "            input = batch[0]\n",
        "            input = tensorToGlove(input, glove).double().to(device)\n",
        "            # print(input.shape)\n",
        "            target = batch[1].to(device)\n",
        "\n",
        "            optimizer.zero_grad()\n",
        "\n",
        "            with torch.set_grad_enabled(mode == 'train'):\n",
        "                # out = model(input, (h0, c0))\n",
        "                out, _ = model(input, h0)\n",
        "                # print(input.shape)\n",
        "                # print(out.shape)\n",
        "                # print(target.shape)\n",
        "                # loss = criterion(out, F.one_hot(target, len(word2index)))\n",
        "                # loss = criterion(out.contiguous().view(-1, out.size(2)), target.contiguous().view(-1))\n",
        "                # print(out.shape, target.shape)\n",
        "                loss = criterion(out, target)\n",
        "                if mode == 'train':\n",
        "                    loss.backward()\n",
        "                    optimizer.step()\n",
        "            # running_loss += loss.item() / len(dataloaders[mode])\n",
        "            b_losses.append(loss.item())\n",
        "        epoch_loss[mode] = np.mean(b_losses)\n",
        "    \n",
        "    print(f\"Epoch {e+1}\", f\"train loss -- {epoch_loss['train_val']:.4}\", f\"val loss -- {epoch_loss['val']}\")\n",
        "    all_tr_loss[e] = epoch_loss['train_val']\n",
        "    all_val_loss[e] = epoch_loss['val']\n",
        "\n",
        "    if epoch_loss['val'] < best_loss_val:\n",
        "        best_loss_val = epoch_loss['val']\n",
        "        torch.save(model.state_dict(), FOLDER + 'rnn_valid.pt')"
      ],
      "metadata": {
        "colab": {
          "base_uri": "https://localhost:8080/",
          "height": 381,
          "referenced_widgets": [
            "530ca9525b09465f88e2b8fe6a14d458",
            "aa62cec385434456aaa1729d0c1853d4",
            "ed25479ea0c649d8889821e92bcdab17",
            "39aab73cdfc74e57a1f163a0ea639646",
            "b7d12d925217435ab0f98beced7d101f",
            "c5ff9f2af1ea4c2d98127ad0123859f1",
            "8650970ea241402c977e079d99acf269",
            "39c2295db05b4e0cb374b7ae67de417f",
            "fdb46bd0859849d0997dde8b1465039e",
            "3874fc8cf2e74b599d5f56321fea0e71",
            "48bc9402bea145658681a0c3c63182de"
          ]
        },
        "id": "rRDPIpE55mR1",
        "outputId": "d2b81777-9f26-4e15-cc25-539138686e17"
      },
      "execution_count": 128,
      "outputs": [
        {
          "output_type": "display_data",
          "data": {
            "application/vnd.jupyter.widget-view+json": {
              "model_id": "530ca9525b09465f88e2b8fe6a14d458",
              "version_minor": 0,
              "version_major": 2
            },
            "text/plain": [
              "  0%|          | 0/15 [00:00<?, ?it/s]"
            ]
          },
          "metadata": {}
        },
        {
          "output_type": "stream",
          "name": "stderr",
          "text": [
            "/usr/local/lib/python3.7/dist-packages/torch/nn/functional.py:1806: UserWarning: nn.functional.sigmoid is deprecated. Use torch.sigmoid instead.\n",
            "  warnings.warn(\"nn.functional.sigmoid is deprecated. Use torch.sigmoid instead.\")\n"
          ]
        },
        {
          "output_type": "stream",
          "name": "stdout",
          "text": [
            "Epoch 1 train loss -- 0.3504 val loss -- 0.3607748308488463\n",
            "Epoch 2 train loss -- 0.3118 val loss -- 0.3359146167543771\n",
            "Epoch 3 train loss -- 0.2858 val loss -- 0.3246686666709465\n",
            "Epoch 4 train loss -- 0.2651 val loss -- 0.3201431461560626\n",
            "Epoch 5 train loss -- 0.2469 val loss -- 0.3193299932449876\n",
            "Epoch 6 train loss -- 0.2299 val loss -- 0.3212227258723961\n",
            "Epoch 7 train loss -- 0.2137 val loss -- 0.32592224836180006\n",
            "Epoch 8 train loss -- 0.1981 val loss -- 0.3334146005092643\n",
            "Epoch 9 train loss -- 0.183 val loss -- 0.3434583483419688\n",
            "Epoch 10 train loss -- 0.1685 val loss -- 0.356209905688405\n",
            "Epoch 11 train loss -- 0.1546 val loss -- 0.37203188499575307\n",
            "Epoch 12 train loss -- 0.1412 val loss -- 0.3908378178048739\n",
            "Epoch 13 train loss -- 0.1282 val loss -- 0.41226398186114316\n",
            "Epoch 14 train loss -- 0.1157 val loss -- 0.43596701709032526\n",
            "Epoch 15 train loss -- 0.1039 val loss -- 0.4622898988931417\n"
          ]
        }
      ]
    },
    {
      "cell_type": "code",
      "source": [
        "plt.figure(figsize=(8, 5))\n",
        "plt.plot(all_tr_loss)\n",
        "plt.plot(all_val_loss)\n",
        "plt.legend(['train', 'valid'])\n",
        "plt.show()"
      ],
      "metadata": {
        "colab": {
          "base_uri": "https://localhost:8080/",
          "height": 320
        },
        "id": "iAWZFzztBEU-",
        "outputId": "ae765e8b-eb94-4a70-e682-9145caa8c1b2"
      },
      "execution_count": 130,
      "outputs": [
        {
          "output_type": "display_data",
          "data": {
            "image/png": "[encoded data removed]",
            "text/plain": [
              "<Figure size 576x360 with 1 Axes>"
            ]
          },
          "metadata": {
            "needs_background": "light"
          }
        }
      ]
    },
    {
      "cell_type": "code",
      "source": [
        "model_s = RnnModel(64)\n",
        "model_s.load_state_dict(torch.load(FOLDER + 'rnn_valid.pt'))\n",
        "model_s = model_s.to(device)"
      ],
      "metadata": {
        "id": "702br79HFpmI"
      },
      "execution_count": 131,
      "outputs": []
    },
    {
      "cell_type": "code",
      "source": [
        "# def predict(x: str, mdl, trie, multimap: Dict):\n",
        "#     x = x.copy().lower()\n",
        "#     inp_var = []\n",
        "#     for sw1 in TRIE.keys(x):\n",
        "#         pass"
      ],
      "metadata": {
        "id": "CPGTuUheGbtA"
      },
      "execution_count": 132,
      "outputs": []
    },
    {
      "cell_type": "markdown",
      "source": [
        "# Check Accuracy"
      ],
      "metadata": {
        "id": "Hr8wNBXFVml_"
      }
    },
    {
      "cell_type": "code",
      "source": [
        "from sklearn.metrics import accuracy_score\n",
        "\n",
        "res = {'train': None, 'val': None}\n",
        "all_tar = {'train': None, 'val': None}\n",
        "\n",
        "for mode in ['train', 'val']:\n",
        "    model.eval()\n",
        "    h0 =  model.init_hidden(batch_size)\n",
        "    h0 = h0.to(device)\n",
        "    for batch_idx, batch in enumerate(dataloaders[mode]):\n",
        "        input = batch[0]\n",
        "        input = tensorToGlove(input, glove).double().to(device)\n",
        "\n",
        "        if batch_idx == 0:\n",
        "            all_tar[mode] = batch[1].cpu()\n",
        "        else:\n",
        "            all_tar[mode] = torch.cat((all_tar[mode], batch[1].cpu()))\n",
        "        \n",
        "        with torch.set_grad_enabled(False):\n",
        "            out, _ = model_s(input, h0)\n",
        "            if batch_idx == 0:\n",
        "                res[mode] = out.cpu()\n",
        "            else:\n",
        "                res[mode] = torch.cat((res[mode], out.cpu()))"
      ],
      "metadata": {
        "colab": {
          "base_uri": "https://localhost:8080/"
        },
        "id": "VMI7USozHWEb",
        "outputId": "95bd0e9c-093d-4528-e1e4-e6ff5068e7f3"
      },
      "execution_count": 133,
      "outputs": [
        {
          "output_type": "stream",
          "name": "stderr",
          "text": [
            "/usr/local/lib/python3.7/dist-packages/torch/nn/functional.py:1806: UserWarning: nn.functional.sigmoid is deprecated. Use torch.sigmoid instead.\n",
            "  warnings.warn(\"nn.functional.sigmoid is deprecated. Use torch.sigmoid instead.\")\n"
          ]
        }
      ]
    },
    {
      "cell_type": "code",
      "source": [
        "print('train', (accuracy_score(all_tar['train'].numpy(), res['train'].numpy() > 0.5)))\n",
        "print('valid', (accuracy_score(all_tar['val'].numpy(), res['val'].numpy() > 0.5)))"
      ],
      "metadata": {
        "colab": {
          "base_uri": "https://localhost:8080/"
        },
        "id": "UMSseA4hMJEU",
        "outputId": "acc54752-8212-450c-ed1d-8b1ea8faa5a3"
      },
      "execution_count": 134,
      "outputs": [
        {
          "output_type": "stream",
          "name": "stdout",
          "text": [
            "train 0.9040903141361256\n",
            "valid 0.8807651991614256\n"
          ]
        }
      ]
    },
    {
      "cell_type": "markdown",
      "source": [
        "check target rate"
      ],
      "metadata": {
        "id": "CNAZFhPrVy6u"
      }
    },
    {
      "cell_type": "code",
      "source": [
        "print(y_train_np.mean())\n",
        "print(y_test_np.mean())"
      ],
      "metadata": {
        "colab": {
          "base_uri": "https://localhost:8080/"
        },
        "id": "H1U6og-aMkiX",
        "outputId": "3644395a-cc5f-4b40-ed9d-c0c9ee0668b7"
      },
      "execution_count": 135,
      "outputs": [
        {
          "output_type": "stream",
          "name": "stdout",
          "text": [
            "0.4779123036649215\n",
            "0.4704881560005235\n"
          ]
        }
      ]
    },
    {
      "cell_type": "code",
      "source": [
        ""
      ],
      "metadata": {
        "id": "BZcCmrdAVlTL"
      },
      "execution_count": null,
      "outputs": []
    }
  ]
}